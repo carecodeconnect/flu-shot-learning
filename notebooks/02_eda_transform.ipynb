{
 "cells": [
  {
   "cell_type": "markdown",
   "metadata": {},
   "source": [
    "# Exploratory Data Analysis and Data Transformation"
   ]
  },
  {
   "cell_type": "code",
   "execution_count": 76,
   "metadata": {},
   "outputs": [],
   "source": [
    "import sys\n",
    "import numpy as np\n",
    "import pandas as pd\n",
    "import matplotlib.pyplot as plt\n",
    "import seaborn as sns\n"
   ]
  },
  {
   "cell_type": "code",
   "execution_count": 77,
   "metadata": {},
   "outputs": [],
   "source": [
    "# Import Data\n",
    "\n",
    "submission_format = pd.read_csv('../data/submission_format.csv')\n",
    "training_set_features = pd.read_csv('../data/training_set_features.csv')\n",
    "training_set_labels = pd.read_csv('../data/training_set_labels.csv')\n",
    "test_set_features = pd.read_csv('../data/test_set_features.csv')"
   ]
  },
  {
   "cell_type": "markdown",
   "metadata": {},
   "source": [
    "# Transformations\n",
    "\n",
    "## Binary Variables\n",
    "\n",
    "`behavioral_antiviral_meds` - Has taken antiviral medications. (binary)\n",
    "`behavioral_avoidance` - Has avoided close contact with others with flu-like symptoms. (binary)\n",
    "`behavioral_face_mask` - Has bought a face mask. (binary)\n",
    "`behavioral_wash_hands` - Has frequently washed hands or used hand sanitizer. (binary)\n",
    "`behavioral_large_gatherings` - Has reduced time at large gatherings. (binary)\n",
    "`behavioral_outside_home` - Has reduced contact with people outside of own household. (binary)\n",
    "`behavioral_touch_face` - Has avoided touching eyes, nose, or mouth. (binary)\n",
    "`doctor_recc_h1n1` - H1N1 flu vaccine was recommended by doctor. (binary)\n",
    "`doctor_recc_seasonal` - Seasonal flu vaccine was recommended by doctor. (binary)\n",
    "`chronic_med_condition` - Has any of the following chronic medical conditions: asthma or an other lung condition, diabetes, a heart condition, a kidney condition, sickle cell anemia or other anemia, a neurological or neuromuscular condition, a liver condition, or a weakened immune system caused by a chronic illness or by medicines taken for a chronic illness. (binary)\n",
    "`child_under_6_months` - Has regular close contact with a child under the age of six months. (binary)\n",
    "`health_worker` - Is a healthcare worker. (binary)\n",
    "`health_insurance` - Has health insurance. (binary)"
   ]
  },
  {
   "cell_type": "code",
   "execution_count": 78,
   "metadata": {},
   "outputs": [
    {
     "data": {
      "text/plain": [
       "Index(['respondent_id', 'h1n1_concern', 'h1n1_knowledge',\n",
       "       'behavioral_antiviral_meds', 'behavioral_avoidance',\n",
       "       'behavioral_face_mask', 'behavioral_wash_hands',\n",
       "       'behavioral_large_gatherings', 'behavioral_outside_home',\n",
       "       'behavioral_touch_face', 'doctor_recc_h1n1', 'doctor_recc_seasonal',\n",
       "       'chronic_med_condition', 'child_under_6_months', 'health_worker',\n",
       "       'health_insurance', 'opinion_h1n1_vacc_effective', 'opinion_h1n1_risk',\n",
       "       'opinion_h1n1_sick_from_vacc', 'opinion_seas_vacc_effective',\n",
       "       'opinion_seas_risk', 'opinion_seas_sick_from_vacc', 'age_group',\n",
       "       'education', 'race', 'sex', 'income_poverty', 'marital_status',\n",
       "       'rent_or_own', 'employment_status', 'hhs_geo_region', 'census_msa',\n",
       "       'household_adults', 'household_children', 'employment_industry',\n",
       "       'employment_occupation'],\n",
       "      dtype='object')"
      ]
     },
     "execution_count": 78,
     "metadata": {},
     "output_type": "execute_result"
    }
   ],
   "source": [
    "training_set_features.columns"
   ]
  },
  {
   "cell_type": "code",
   "execution_count": 79,
   "metadata": {},
   "outputs": [
    {
     "name": "stderr",
     "output_type": "stream",
     "text": [
      "/tmp/ipykernel_11926/812494089.py:2: FutureWarning: Setting an item of incompatible dtype is deprecated and will raise in a future error of pandas. Value '[False False False ... False False False]' has dtype incompatible with float64, please explicitly cast to a compatible dtype first.\n",
      "  training_set_features.loc[:,'behavioral_antiviral_meds':'health_insurance'] = training_set_features.loc[:,'behavioral_antiviral_meds':'health_insurance'].astype(bool)\n",
      "/tmp/ipykernel_11926/812494089.py:2: FutureWarning: Setting an item of incompatible dtype is deprecated and will raise in a future error of pandas. Value '[False  True  True ...  True False  True]' has dtype incompatible with float64, please explicitly cast to a compatible dtype first.\n",
      "  training_set_features.loc[:,'behavioral_antiviral_meds':'health_insurance'] = training_set_features.loc[:,'behavioral_antiviral_meds':'health_insurance'].astype(bool)\n",
      "/tmp/ipykernel_11926/812494089.py:2: FutureWarning: Setting an item of incompatible dtype is deprecated and will raise in a future error of pandas. Value '[False False False ...  True False False]' has dtype incompatible with float64, please explicitly cast to a compatible dtype first.\n",
      "  training_set_features.loc[:,'behavioral_antiviral_meds':'health_insurance'] = training_set_features.loc[:,'behavioral_antiviral_meds':'health_insurance'].astype(bool)\n",
      "/tmp/ipykernel_11926/812494089.py:2: FutureWarning: Setting an item of incompatible dtype is deprecated and will raise in a future error of pandas. Value '[False  True False ...  True False False]' has dtype incompatible with float64, please explicitly cast to a compatible dtype first.\n",
      "  training_set_features.loc[:,'behavioral_antiviral_meds':'health_insurance'] = training_set_features.loc[:,'behavioral_antiviral_meds':'health_insurance'].astype(bool)\n",
      "/tmp/ipykernel_11926/812494089.py:2: FutureWarning: Setting an item of incompatible dtype is deprecated and will raise in a future error of pandas. Value '[False False False ...  True False False]' has dtype incompatible with float64, please explicitly cast to a compatible dtype first.\n",
      "  training_set_features.loc[:,'behavioral_antiviral_meds':'health_insurance'] = training_set_features.loc[:,'behavioral_antiviral_meds':'health_insurance'].astype(bool)\n",
      "/tmp/ipykernel_11926/812494089.py:2: FutureWarning: Setting an item of incompatible dtype is deprecated and will raise in a future error of pandas. Value '[ True  True False ... False False False]' has dtype incompatible with float64, please explicitly cast to a compatible dtype first.\n",
      "  training_set_features.loc[:,'behavioral_antiviral_meds':'health_insurance'] = training_set_features.loc[:,'behavioral_antiviral_meds':'health_insurance'].astype(bool)\n",
      "/tmp/ipykernel_11926/812494089.py:2: FutureWarning: Setting an item of incompatible dtype is deprecated and will raise in a future error of pandas. Value '[ True  True False ...  True  True False]' has dtype incompatible with float64, please explicitly cast to a compatible dtype first.\n",
      "  training_set_features.loc[:,'behavioral_antiviral_meds':'health_insurance'] = training_set_features.loc[:,'behavioral_antiviral_meds':'health_insurance'].astype(bool)\n",
      "/tmp/ipykernel_11926/812494089.py:2: FutureWarning: Setting an item of incompatible dtype is deprecated and will raise in a future error of pandas. Value '[False False  True ... False False False]' has dtype incompatible with float64, please explicitly cast to a compatible dtype first.\n",
      "  training_set_features.loc[:,'behavioral_antiviral_meds':'health_insurance'] = training_set_features.loc[:,'behavioral_antiviral_meds':'health_insurance'].astype(bool)\n",
      "/tmp/ipykernel_11926/812494089.py:2: FutureWarning: Setting an item of incompatible dtype is deprecated and will raise in a future error of pandas. Value '[False False  True ... False False False]' has dtype incompatible with float64, please explicitly cast to a compatible dtype first.\n",
      "  training_set_features.loc[:,'behavioral_antiviral_meds':'health_insurance'] = training_set_features.loc[:,'behavioral_antiviral_meds':'health_insurance'].astype(bool)\n",
      "/tmp/ipykernel_11926/812494089.py:2: FutureWarning: Setting an item of incompatible dtype is deprecated and will raise in a future error of pandas. Value '[False False  True ... False False False]' has dtype incompatible with float64, please explicitly cast to a compatible dtype first.\n",
      "  training_set_features.loc[:,'behavioral_antiviral_meds':'health_insurance'] = training_set_features.loc[:,'behavioral_antiviral_meds':'health_insurance'].astype(bool)\n",
      "/tmp/ipykernel_11926/812494089.py:2: FutureWarning: Setting an item of incompatible dtype is deprecated and will raise in a future error of pandas. Value '[False False False ... False False False]' has dtype incompatible with float64, please explicitly cast to a compatible dtype first.\n",
      "  training_set_features.loc[:,'behavioral_antiviral_meds':'health_insurance'] = training_set_features.loc[:,'behavioral_antiviral_meds':'health_insurance'].astype(bool)\n",
      "/tmp/ipykernel_11926/812494089.py:2: FutureWarning: Setting an item of incompatible dtype is deprecated and will raise in a future error of pandas. Value '[False False False ... False False False]' has dtype incompatible with float64, please explicitly cast to a compatible dtype first.\n",
      "  training_set_features.loc[:,'behavioral_antiviral_meds':'health_insurance'] = training_set_features.loc[:,'behavioral_antiviral_meds':'health_insurance'].astype(bool)\n",
      "/tmp/ipykernel_11926/812494089.py:2: FutureWarning: Setting an item of incompatible dtype is deprecated and will raise in a future error of pandas. Value '[ True  True  True ...  True False  True]' has dtype incompatible with float64, please explicitly cast to a compatible dtype first.\n",
      "  training_set_features.loc[:,'behavioral_antiviral_meds':'health_insurance'] = training_set_features.loc[:,'behavioral_antiviral_meds':'health_insurance'].astype(bool)\n",
      "/tmp/ipykernel_11926/812494089.py:3: FutureWarning: Setting an item of incompatible dtype is deprecated and will raise in a future error of pandas. Value '[False False False ... False False False]' has dtype incompatible with float64, please explicitly cast to a compatible dtype first.\n",
      "  test_set_features.loc[:,'behavioral_antiviral_meds':'health_insurance'] = test_set_features.loc[:,'behavioral_antiviral_meds':'health_insurance'].astype(bool)\n",
      "/tmp/ipykernel_11926/812494089.py:3: FutureWarning: Setting an item of incompatible dtype is deprecated and will raise in a future error of pandas. Value '[ True False False ... False  True False]' has dtype incompatible with float64, please explicitly cast to a compatible dtype first.\n",
      "  test_set_features.loc[:,'behavioral_antiviral_meds':'health_insurance'] = test_set_features.loc[:,'behavioral_antiviral_meds':'health_insurance'].astype(bool)\n",
      "/tmp/ipykernel_11926/812494089.py:3: FutureWarning: Setting an item of incompatible dtype is deprecated and will raise in a future error of pandas. Value '[False False  True ... False False False]' has dtype incompatible with float64, please explicitly cast to a compatible dtype first.\n",
      "  test_set_features.loc[:,'behavioral_antiviral_meds':'health_insurance'] = test_set_features.loc[:,'behavioral_antiviral_meds':'health_insurance'].astype(bool)\n",
      "/tmp/ipykernel_11926/812494089.py:3: FutureWarning: Setting an item of incompatible dtype is deprecated and will raise in a future error of pandas. Value '[ True False  True ... False  True  True]' has dtype incompatible with float64, please explicitly cast to a compatible dtype first.\n",
      "  test_set_features.loc[:,'behavioral_antiviral_meds':'health_insurance'] = test_set_features.loc[:,'behavioral_antiviral_meds':'health_insurance'].astype(bool)\n",
      "/tmp/ipykernel_11926/812494089.py:3: FutureWarning: Setting an item of incompatible dtype is deprecated and will raise in a future error of pandas. Value '[ True False  True ... False False False]' has dtype incompatible with float64, please explicitly cast to a compatible dtype first.\n",
      "  test_set_features.loc[:,'behavioral_antiviral_meds':'health_insurance'] = test_set_features.loc[:,'behavioral_antiviral_meds':'health_insurance'].astype(bool)\n",
      "/tmp/ipykernel_11926/812494089.py:3: FutureWarning: Setting an item of incompatible dtype is deprecated and will raise in a future error of pandas. Value '[False False  True ... False  True False]' has dtype incompatible with float64, please explicitly cast to a compatible dtype first.\n",
      "  test_set_features.loc[:,'behavioral_antiviral_meds':'health_insurance'] = test_set_features.loc[:,'behavioral_antiviral_meds':'health_insurance'].astype(bool)\n",
      "/tmp/ipykernel_11926/812494089.py:3: FutureWarning: Setting an item of incompatible dtype is deprecated and will raise in a future error of pandas. Value '[ True False  True ... False False  True]' has dtype incompatible with float64, please explicitly cast to a compatible dtype first.\n",
      "  test_set_features.loc[:,'behavioral_antiviral_meds':'health_insurance'] = test_set_features.loc[:,'behavioral_antiviral_meds':'health_insurance'].astype(bool)\n",
      "/tmp/ipykernel_11926/812494089.py:3: FutureWarning: Setting an item of incompatible dtype is deprecated and will raise in a future error of pandas. Value '[False False False ... False False  True]' has dtype incompatible with float64, please explicitly cast to a compatible dtype first.\n",
      "  test_set_features.loc[:,'behavioral_antiviral_meds':'health_insurance'] = test_set_features.loc[:,'behavioral_antiviral_meds':'health_insurance'].astype(bool)\n",
      "/tmp/ipykernel_11926/812494089.py:3: FutureWarning: Setting an item of incompatible dtype is deprecated and will raise in a future error of pandas. Value '[False False False ... False False False]' has dtype incompatible with float64, please explicitly cast to a compatible dtype first.\n",
      "  test_set_features.loc[:,'behavioral_antiviral_meds':'health_insurance'] = test_set_features.loc[:,'behavioral_antiviral_meds':'health_insurance'].astype(bool)\n",
      "/tmp/ipykernel_11926/812494089.py:3: FutureWarning: Setting an item of incompatible dtype is deprecated and will raise in a future error of pandas. Value '[False False False ... False False False]' has dtype incompatible with float64, please explicitly cast to a compatible dtype first.\n",
      "  test_set_features.loc[:,'behavioral_antiviral_meds':'health_insurance'] = test_set_features.loc[:,'behavioral_antiviral_meds':'health_insurance'].astype(bool)\n",
      "/tmp/ipykernel_11926/812494089.py:3: FutureWarning: Setting an item of incompatible dtype is deprecated and will raise in a future error of pandas. Value '[False False False ... False  True False]' has dtype incompatible with float64, please explicitly cast to a compatible dtype first.\n",
      "  test_set_features.loc[:,'behavioral_antiviral_meds':'health_insurance'] = test_set_features.loc[:,'behavioral_antiviral_meds':'health_insurance'].astype(bool)\n",
      "/tmp/ipykernel_11926/812494089.py:3: FutureWarning: Setting an item of incompatible dtype is deprecated and will raise in a future error of pandas. Value '[False False False ... False False False]' has dtype incompatible with float64, please explicitly cast to a compatible dtype first.\n",
      "  test_set_features.loc[:,'behavioral_antiviral_meds':'health_insurance'] = test_set_features.loc[:,'behavioral_antiviral_meds':'health_insurance'].astype(bool)\n",
      "/tmp/ipykernel_11926/812494089.py:3: FutureWarning: Setting an item of incompatible dtype is deprecated and will raise in a future error of pandas. Value '[ True False  True ...  True  True  True]' has dtype incompatible with float64, please explicitly cast to a compatible dtype first.\n",
      "  test_set_features.loc[:,'behavioral_antiviral_meds':'health_insurance'] = test_set_features.loc[:,'behavioral_antiviral_meds':'health_insurance'].astype(bool)\n"
     ]
    },
    {
     "data": {
      "text/plain": [
       "'\\nbinary variables to convert to bool:\\n \\nbehavioral_antiviral_meds\\nbehavioral_avoidance\\nbehavioral_face_mask\\nbehavioral_wash_hands\\nbehavioral_large_gatherings\\nbehavioral_outside_home\\nbehavioral_touch_face\\ndoctor_recc_h1n1\\ndoctor_recc_seasonal\\nchronic_med_condition\\nchild_under_6_months\\nhealth_worker\\nhealth_insurance\\n'"
      ]
     },
     "execution_count": 79,
     "metadata": {},
     "output_type": "execute_result"
    }
   ],
   "source": [
    "# use .loc to change binary column values to dtype bool in training and test sets\n",
    "training_set_features.loc[:,'behavioral_antiviral_meds':'health_insurance'] = training_set_features.loc[:,'behavioral_antiviral_meds':'health_insurance'].astype(bool)\n",
    "test_set_features.loc[:,'behavioral_antiviral_meds':'health_insurance'] = test_set_features.loc[:,'behavioral_antiviral_meds':'health_insurance'].astype(bool)\n",
    "\n",
    "\"\"\"\n",
    "binary variables to convert to bool:\n",
    " \n",
    "behavioral_antiviral_meds\n",
    "behavioral_avoidance\n",
    "behavioral_face_mask\n",
    "behavioral_wash_hands\n",
    "behavioral_large_gatherings\n",
    "behavioral_outside_home\n",
    "behavioral_touch_face\n",
    "doctor_recc_h1n1\n",
    "doctor_recc_seasonal\n",
    "chronic_med_condition\n",
    "child_under_6_months\n",
    "health_worker\n",
    "health_insurance\n",
    "\"\"\""
   ]
  },
  {
   "cell_type": "code",
   "execution_count": 80,
   "metadata": {},
   "outputs": [
    {
     "data": {
      "text/plain": [
       "0         True\n",
       "1         True\n",
       "2         True\n",
       "3         True\n",
       "4         True\n",
       "         ...  \n",
       "26702     True\n",
       "26703     True\n",
       "26704     True\n",
       "26705    False\n",
       "26706     True\n",
       "Name: health_insurance, Length: 26707, dtype: bool"
      ]
     },
     "execution_count": 80,
     "metadata": {},
     "output_type": "execute_result"
    }
   ],
   "source": [
    "training_set_features['health_insurance']"
   ]
  },
  {
   "cell_type": "code",
   "execution_count": 81,
   "metadata": {},
   "outputs": [
    {
     "name": "stderr",
     "output_type": "stream",
     "text": [
      "/tmp/ipykernel_11926/3236409418.py:3: FutureWarning: Setting an item of incompatible dtype is deprecated and will raise in a future error of pandas. Value '[False False False ... False False False]' has dtype incompatible with int64, please explicitly cast to a compatible dtype first.\n",
      "  training_set_labels.loc[:,'h1n1_vaccine':'seasonal_vaccine'] = training_set_labels.loc[:,'h1n1_vaccine': 'seasonal_vaccine'].astype(bool)\n",
      "/tmp/ipykernel_11926/3236409418.py:3: FutureWarning: Setting an item of incompatible dtype is deprecated and will raise in a future error of pandas. Value '[False  True False ...  True False False]' has dtype incompatible with int64, please explicitly cast to a compatible dtype first.\n",
      "  training_set_labels.loc[:,'h1n1_vaccine':'seasonal_vaccine'] = training_set_labels.loc[:,'h1n1_vaccine': 'seasonal_vaccine'].astype(bool)\n"
     ]
    }
   ],
   "source": [
    "# Convert target variables to Bool\n",
    "\n",
    "training_set_labels.loc[:,'h1n1_vaccine':'seasonal_vaccine'] = training_set_labels.loc[:,'h1n1_vaccine': 'seasonal_vaccine'].astype(bool)\n"
   ]
  },
  {
   "cell_type": "markdown",
   "metadata": {},
   "source": [
    "# Ordinal / Categorical Variables\n",
    "\n",
    "Convert from float64 to integers"
   ]
  },
  {
   "cell_type": "markdown",
   "metadata": {},
   "source": [
    "\"\"\"\n",
    "# ordinal / categorical variables to convert from float to integer\n",
    "`h1n1_concern`\n",
    "\n",
    "`h1n1_knowledge`\n",
    "\n",
    "`opinion_h1n1_vacc_effective`\n",
    "\n",
    "`opinion_h1n1_risk`\n",
    "\n",
    "`opinion_h1n1_sick_from_vacc`\n",
    "\n",
    "`opinion_seas_vacc_effective`\n",
    "\n",
    "`opinion_seas_risk`\n",
    "\n",
    "`opinion_seas_sick_from_vacc`\n",
    "\n",
    "\"\"\"\n",
    "training_set_features.loc[:,'h1n1_concern':'opinion_seas_sick_from_vacc'] = training_set_features.loc[:,'h1n1_concern':'opinion_seas_sick_from_vacc'].astype(int)\n",
    "\n"
   ]
  },
  {
   "cell_type": "markdown",
   "metadata": {},
   "source": [
    "# Missing Values\n",
    "\n",
    "I discovered the ordinal/categorical variables could not be converted to integers, due to the presence of NaNs\n",
    "\n",
    "So, then I investigated NaNs in the data"
   ]
  },
  {
   "cell_type": "markdown",
   "metadata": {},
   "source": [
    "# Check NaN (Not A Number) Values"
   ]
  },
  {
   "cell_type": "code",
   "execution_count": 82,
   "metadata": {},
   "outputs": [
    {
     "name": "stdout",
     "output_type": "stream",
     "text": [
      "40936\n"
     ]
    }
   ],
   "source": [
    "nan_count_per_column = training_set_features.isna().sum()\n",
    "\n",
    "total_nan_count = training_set_features.isna().sum().sum()\n",
    "print(total_nan_count)"
   ]
  },
  {
   "cell_type": "code",
   "execution_count": 83,
   "metadata": {},
   "outputs": [],
   "source": [
    "# create boolean dataframe of missing values\n",
    "missing_values = training_set_features.isna()"
   ]
  },
  {
   "cell_type": "code",
   "execution_count": 121,
   "metadata": {},
   "outputs": [
    {
     "data": {
      "image/png": "[encoded data removed]",
      "text/plain": [
       "<Figure size 1000x600 with 1 Axes>"
      ]
     },
     "metadata": {},
     "output_type": "display_data"
    }
   ],
   "source": [
    "# map missing values on heatmap\n",
    "\n",
    "# Create the figure and axis\n",
    "plt.figure(figsize=(10,6))\n",
    "ax = sns.heatmap(missing_values.T, cbar=False, xticklabels=False, cmap='viridis')\n",
    "\n",
    "# Set the background color of the figure (outside the heatmap)\n",
    "plt.gcf().set_facecolor('black')\n",
    "\n",
    "# Set the title and labels with white text\n",
    "plt.title('Heatmap of Missing Values', color='white')\n",
    "plt.xlabel('Rows', color='white')\n",
    "plt.ylabel('Columns', color='white')\n",
    "\n",
    "# Set tick colors to white\n",
    "ax.tick_params(axis='x', colors='white')\n",
    "ax.tick_params(axis='y', colors='white')\n",
    "\n",
    "# Set the color of the axis (spine) to white\n",
    "for spine in ax.spines.values():\n",
    "    spine.set_edgecolor('white')\n",
    "\n",
    "plt.savefig('../images/nan_heatmap.png', facecolor='black')  # Save with a black background\n",
    "plt.show()\n",
    "\n"
   ]
  },
  {
   "cell_type": "markdown",
   "metadata": {},
   "source": [
    "# Check Missing Values\n",
    "\n",
    "This heatmap shows the presence of NaN values in the dataset according to column (feature) variables\n",
    "\n",
    "I was about to drop all rows with missing values (NaN)\n",
    "\n",
    "But after plotting, I can see the missing values group around the following variables:\n",
    "\n",
    "- `employment_occupation` has 13470 (50.4%) missing values\n",
    "- `employment_industry` has 13330 (49.9%) missing values\n",
    "- `health_insurance` has 12274 (46.0%) missing values\t\n",
    "- `income_poverty` has 4423 (16.6%) missing values\t\n",
    "\n",
    "This possibly suggests participants felt uncomfortable answering these questions during the telephone survey\n",
    "\n",
    "But we don't know!\n",
    "\n",
    "I will keep the NaNs for now.\n",
    "\n",
    "We need to be careful with those variables where there are many NaNs\n",
    "\n",
    "They may give indications about the nature of the data, and give us caution about how we interpret this dataset"
   ]
  },
  {
   "cell_type": "markdown",
   "metadata": {},
   "source": [
    "# Target Variables\n",
    "\n",
    "Let's look at the distribution of the target variables, to see if there is any class imbalance"
   ]
  },
  {
   "cell_type": "code",
   "execution_count": 85,
   "metadata": {},
   "outputs": [
    {
     "data": {
      "text/plain": [
       "0        False\n",
       "1        False\n",
       "2        False\n",
       "3        False\n",
       "4        False\n",
       "         ...  \n",
       "26702    False\n",
       "26703    False\n",
       "26704    False\n",
       "26705    False\n",
       "26706    False\n",
       "Name: h1n1_vaccine, Length: 26707, dtype: bool"
      ]
     },
     "execution_count": 85,
     "metadata": {},
     "output_type": "execute_result"
    }
   ],
   "source": [
    "training_set_labels['h1n1_vaccine']"
   ]
  },
  {
   "cell_type": "code",
   "execution_count": 86,
   "metadata": {},
   "outputs": [
    {
     "data": {
      "text/plain": [
       "count     26707\n",
       "unique        2\n",
       "top       False\n",
       "freq      21033\n",
       "Name: h1n1_vaccine, dtype: object"
      ]
     },
     "execution_count": 86,
     "metadata": {},
     "output_type": "execute_result"
    }
   ],
   "source": [
    "training_set_labels['h1n1_vaccine'].describe()"
   ]
  },
  {
   "cell_type": "code",
   "execution_count": 87,
   "metadata": {},
   "outputs": [
    {
     "data": {
      "text/plain": [
       "h1n1_vaccine\n",
       "False    21033\n",
       "True      5674\n",
       "Name: count, dtype: int64"
      ]
     },
     "execution_count": 87,
     "metadata": {},
     "output_type": "execute_result"
    }
   ],
   "source": [
    "training_set_labels['h1n1_vaccine'].value_counts()"
   ]
  },
  {
   "cell_type": "code",
   "execution_count": 88,
   "metadata": {},
   "outputs": [
    {
     "name": "stdout",
     "output_type": "stream",
     "text": [
      "Percentage who had H1N1 vaccine: 21.24536638334519\n",
      "Percentage who had not had H1N1 vaccine: 78.75463361665481\n"
     ]
    },
    {
     "name": "stderr",
     "output_type": "stream",
     "text": [
      "/tmp/ipykernel_11926/2115513575.py:2: FutureWarning: Series.__getitem__ treating keys as positions is deprecated. In a future version, integer keys will always be treated as labels (consistent with DataFrame behavior). To access a value by position, use `ser.iloc[pos]`\n",
      "  total_h1n1 = h1n1_counts[0] + h1n1_counts[1]\n",
      "/tmp/ipykernel_11926/2115513575.py:3: FutureWarning: Series.__getitem__ treating keys as positions is deprecated. In a future version, integer keys will always be treated as labels (consistent with DataFrame behavior). To access a value by position, use `ser.iloc[pos]`\n",
      "  false_h1n1_percentage = (h1n1_counts[0] / total_h1n1) * 100\n",
      "/tmp/ipykernel_11926/2115513575.py:4: FutureWarning: Series.__getitem__ treating keys as positions is deprecated. In a future version, integer keys will always be treated as labels (consistent with DataFrame behavior). To access a value by position, use `ser.iloc[pos]`\n",
      "  true_h1n1_percentage = (h1n1_counts[1] / total_h1n1) * 100\n"
     ]
    }
   ],
   "source": [
    "h1n1_counts = training_set_labels['h1n1_vaccine'].value_counts()\n",
    "total_h1n1 = h1n1_counts[0] + h1n1_counts[1]\n",
    "false_h1n1_percentage = (h1n1_counts[0] / total_h1n1) * 100\n",
    "true_h1n1_percentage = (h1n1_counts[1] / total_h1n1) * 100\n",
    "print(f\"Percentage who had H1N1 vaccine: {true_h1n1_percentage}\")\n",
    "print(f\"Percentage who had not had H1N1 vaccine: {false_h1n1_percentage}\")\n"
   ]
  },
  {
   "cell_type": "code",
   "execution_count": 89,
   "metadata": {},
   "outputs": [
    {
     "data": {
      "text/plain": [
       "<Axes: xlabel='h1n1_vaccine'>"
      ]
     },
     "execution_count": 89,
     "metadata": {},
     "output_type": "execute_result"
    },
    {
     "data": {
      "image/png": "[encoded data removed]",
      "text/plain": [
       "<Figure size 640x480 with 1 Axes>"
      ]
     },
     "metadata": {},
     "output_type": "display_data"
    }
   ],
   "source": [
    "h1n1_counts.plot(kind=\"bar\")"
   ]
  },
  {
   "cell_type": "code",
   "execution_count": 90,
   "metadata": {},
   "outputs": [
    {
     "data": {
      "text/plain": [
       "0"
      ]
     },
     "execution_count": 90,
     "metadata": {},
     "output_type": "execute_result"
    }
   ],
   "source": [
    "\n",
    "training_set_labels['h1n1_vaccine'].isna().sum()"
   ]
  },
  {
   "cell_type": "code",
   "execution_count": 91,
   "metadata": {},
   "outputs": [
    {
     "data": {
      "text/plain": [
       "count     26707\n",
       "unique        2\n",
       "top       False\n",
       "freq      14272\n",
       "Name: seasonal_vaccine, dtype: object"
      ]
     },
     "execution_count": 91,
     "metadata": {},
     "output_type": "execute_result"
    }
   ],
   "source": [
    "training_set_labels['seasonal_vaccine'].describe()"
   ]
  },
  {
   "cell_type": "code",
   "execution_count": 92,
   "metadata": {},
   "outputs": [
    {
     "data": {
      "text/plain": [
       "seasonal_vaccine\n",
       "False    14272\n",
       "True     12435\n",
       "Name: count, dtype: int64"
      ]
     },
     "execution_count": 92,
     "metadata": {},
     "output_type": "execute_result"
    }
   ],
   "source": [
    "seasonal_counts = training_set_labels['seasonal_vaccine'].value_counts()\n",
    "seasonal_counts"
   ]
  },
  {
   "cell_type": "code",
   "execution_count": 93,
   "metadata": {},
   "outputs": [
    {
     "name": "stdout",
     "output_type": "stream",
     "text": [
      "Percentage who had taken seasonal flue vaccine: 46.56082674954132\n",
      "Percentage who had not had seasonal vaccine: 53.43917325045868\n"
     ]
    },
    {
     "name": "stderr",
     "output_type": "stream",
     "text": [
      "/tmp/ipykernel_11926/77800132.py:1: FutureWarning: Series.__getitem__ treating keys as positions is deprecated. In a future version, integer keys will always be treated as labels (consistent with DataFrame behavior). To access a value by position, use `ser.iloc[pos]`\n",
      "  total_seasonal = seasonal_counts[0] + seasonal_counts[1]\n",
      "/tmp/ipykernel_11926/77800132.py:2: FutureWarning: Series.__getitem__ treating keys as positions is deprecated. In a future version, integer keys will always be treated as labels (consistent with DataFrame behavior). To access a value by position, use `ser.iloc[pos]`\n",
      "  false_seasonal_percentage = (seasonal_counts[0] / total_seasonal) * 100\n",
      "/tmp/ipykernel_11926/77800132.py:3: FutureWarning: Series.__getitem__ treating keys as positions is deprecated. In a future version, integer keys will always be treated as labels (consistent with DataFrame behavior). To access a value by position, use `ser.iloc[pos]`\n",
      "  true_seasonal_percentage = (seasonal_counts[1] / total_seasonal) * 100\n"
     ]
    }
   ],
   "source": [
    "total_seasonal = seasonal_counts[0] + seasonal_counts[1]\n",
    "false_seasonal_percentage = (seasonal_counts[0] / total_seasonal) * 100\n",
    "true_seasonal_percentage = (seasonal_counts[1] / total_seasonal) * 100\n",
    "print(f\"Percentage who had taken seasonal flue vaccine: {true_seasonal_percentage}\")\n",
    "print(f\"Percentage who had not had seasonal vaccine: {false_seasonal_percentage}\")\n"
   ]
  },
  {
   "cell_type": "code",
   "execution_count": 94,
   "metadata": {},
   "outputs": [
    {
     "data": {
      "text/plain": [
       "0.8712864349775785"
      ]
     },
     "execution_count": 94,
     "metadata": {},
     "output_type": "execute_result"
    }
   ],
   "source": [
    "seasonal_counts.values[1] / seasonal_counts.values[0]"
   ]
  },
  {
   "cell_type": "code",
   "execution_count": 95,
   "metadata": {},
   "outputs": [
    {
     "data": {
      "text/plain": [
       "<Axes: xlabel='seasonal_vaccine'>"
      ]
     },
     "execution_count": 95,
     "metadata": {},
     "output_type": "execute_result"
    },
    {
     "data": {
      "image/png": "[encoded data removed]",
      "text/plain": [
       "<Figure size 640x480 with 1 Axes>"
      ]
     },
     "metadata": {},
     "output_type": "display_data"
    }
   ],
   "source": [
    "seasonal_counts.plot(kind=\"bar\")"
   ]
  },
  {
   "cell_type": "code",
   "execution_count": 96,
   "metadata": {},
   "outputs": [
    {
     "data": {
      "text/plain": [
       "0"
      ]
     },
     "execution_count": 96,
     "metadata": {},
     "output_type": "execute_result"
    }
   ],
   "source": [
    "training_set_labels['seasonal_vaccine'].isna().sum()"
   ]
  },
  {
   "cell_type": "markdown",
   "metadata": {},
   "source": [
    "# Feature Variables\n",
    "\n",
    "demographic\n",
    "\n",
    "- `age_group`\n",
    "- `race`\n",
    "- `sex`\n",
    "- `marital_status`\n",
    "\n",
    "socio-economic\n",
    "\n",
    "- `health_insurance`\n",
    "- `education`\n",
    "- `income_poverty`\n",
    "- `rent_or_own`\n",
    "\n",
    "employment\n",
    "\n",
    "- `employment_status`\n",
    "- `employment_occupation`\n",
    "- `employment_industry`\n",
    "- `health_worker`\n",
    "\n",
    "health\n",
    "\n",
    "- `h1n1_` variables (2)\n",
    "- `doctor_` variables (2)\n",
    "- `chronic_med_condition`\n",
    "\n",
    "household & family\n",
    "\n",
    "- `child_under_6_months`\n",
    "- `household_adults`\n",
    "- `household_children`\n",
    "\n",
    "geographical\n",
    "\n",
    "- `census_msa`\n",
    "- `hhs_geo_region` \n",
    "\n",
    "opinion\n",
    "\n",
    "- `opinion_` variables (6)\n",
    "\n",
    "behavioral\n",
    "\n",
    "- `behavioural_` variables (7)\n",
    "\n",
    "# Notes\n",
    "\n",
    "- doctor did recommend seasonal vaccine\n",
    "- doctor did not recommend h1n1\n",
    "- tend to be white, older, home owning\n",
    "\n",
    "# Independent Variables\n",
    "\n",
    "- demographic\n",
    "- socio-economic\n",
    "- employment\n",
    "- geographical\n",
    "- health\n",
    "- household & family\n"
   ]
  },
  {
   "cell_type": "markdown",
   "metadata": {},
   "source": [
    "# EDA for Feature Variables"
   ]
  },
  {
   "cell_type": "code",
   "execution_count": 97,
   "metadata": {},
   "outputs": [
    {
     "data": {
      "text/plain": [
       "'\\ndemographic\\n\\n- `age_group`\\n- `race`\\n- `sex`\\n- `marital_status`\\n\\nsocio-economic\\n\\n- `health_insurance`\\n- `education`\\n- `income_poverty`\\n- `rent_or_own`\\n\\nemployment\\n\\n- `employment_status`\\n- `employment_occupation`\\n- `employment_industry`\\n- `health_worker`\\n'"
      ]
     },
     "execution_count": 97,
     "metadata": {},
     "output_type": "execute_result"
    }
   ],
   "source": [
    "\"\"\"\n",
    "demographic\n",
    "\n",
    "- `age_group`\n",
    "- `race`\n",
    "- `sex`\n",
    "- `marital_status`\n",
    "\n",
    "socio-economic\n",
    "\n",
    "- `health_insurance`\n",
    "- `education`\n",
    "- `income_poverty`\n",
    "- `rent_or_own`\n",
    "\n",
    "employment\n",
    "\n",
    "- `employment_status`\n",
    "- `employment_occupation`\n",
    "- `employment_industry`\n",
    "- `health_worker`\n",
    "\"\"\"\n",
    "\n"
   ]
  },
  {
   "cell_type": "code",
   "execution_count": 98,
   "metadata": {},
   "outputs": [
    {
     "data": {
      "text/plain": [
       "count         26707\n",
       "unique            5\n",
       "top       65+ Years\n",
       "freq           6843\n",
       "Name: age_group, dtype: object"
      ]
     },
     "execution_count": 98,
     "metadata": {},
     "output_type": "execute_result"
    }
   ],
   "source": [
    "training_set_features['age_group'].describe()"
   ]
  },
  {
   "cell_type": "code",
   "execution_count": 99,
   "metadata": {},
   "outputs": [
    {
     "data": {
      "text/plain": [
       "(array([5563.,    0., 3848.,    0.,    0., 5215.,    0., 6843.,    0.,\n",
       "        5238.]),\n",
       " array([0. , 0.4, 0.8, 1.2, 1.6, 2. , 2.4, 2.8, 3.2, 3.6, 4. ]),\n",
       " <BarContainer object of 10 artists>)"
      ]
     },
     "execution_count": 99,
     "metadata": {},
     "output_type": "execute_result"
    },
    {
     "data": {
      "image/png": "[encoded data removed]",
      "text/plain": [
       "<Figure size 640x480 with 1 Axes>"
      ]
     },
     "metadata": {},
     "output_type": "display_data"
    }
   ],
   "source": [
    "plt.hist([training_set_features['age_group']])"
   ]
  },
  {
   "cell_type": "code",
   "execution_count": 100,
   "metadata": {},
   "outputs": [
    {
     "data": {
      "text/plain": [
       "(array([21222.,     0.,     0.,  2118.,     0.,     0.,  1612.,     0.,\n",
       "            0.,  1755.]),\n",
       " array([0. , 0.3, 0.6, 0.9, 1.2, 1.5, 1.8, 2.1, 2.4, 2.7, 3. ]),\n",
       " <BarContainer object of 10 artists>)"
      ]
     },
     "execution_count": 100,
     "metadata": {},
     "output_type": "execute_result"
    },
    {
     "data": {
      "image/png": "[encoded data removed]",
      "text/plain": [
       "<Figure size 640x480 with 1 Axes>"
      ]
     },
     "metadata": {},
     "output_type": "display_data"
    }
   ],
   "source": [
    "plt.hist([training_set_features['race']])"
   ]
  },
  {
   "cell_type": "code",
   "execution_count": 101,
   "metadata": {},
   "outputs": [
    {
     "data": {
      "text/plain": [
       "count       25299\n",
       "unique          2\n",
       "top       Married\n",
       "freq        13555\n",
       "Name: marital_status, dtype: object"
      ]
     },
     "execution_count": 101,
     "metadata": {},
     "output_type": "execute_result"
    }
   ],
   "source": [
    "training_set_features['marital_status'].describe()"
   ]
  },
  {
   "cell_type": "code",
   "execution_count": 102,
   "metadata": {},
   "outputs": [],
   "source": [
    "marital_status = training_set_features['marital_status']"
   ]
  },
  {
   "cell_type": "code",
   "execution_count": 103,
   "metadata": {},
   "outputs": [
    {
     "data": {
      "text/plain": [
       "marital_status\n",
       "Married        13555\n",
       "Not Married    11744\n",
       "Name: count, dtype: int64"
      ]
     },
     "execution_count": 103,
     "metadata": {},
     "output_type": "execute_result"
    }
   ],
   "source": [
    "marital_status.value_counts()"
   ]
  },
  {
   "cell_type": "code",
   "execution_count": 104,
   "metadata": {},
   "outputs": [
    {
     "data": {
      "text/plain": [
       "(array([15858.,     0.,     0.,     0.,     0.,     0.,     0.,     0.,\n",
       "            0., 10849.]),\n",
       " array([0. , 0.1, 0.2, 0.3, 0.4, 0.5, 0.6, 0.7, 0.8, 0.9, 1. ]),\n",
       " <BarContainer object of 10 artists>)"
      ]
     },
     "execution_count": 104,
     "metadata": {},
     "output_type": "execute_result"
    },
    {
     "data": {
      "image/png": "[encoded data removed]",
      "text/plain": [
       "<Figure size 640x480 with 1 Axes>"
      ]
     },
     "metadata": {},
     "output_type": "display_data"
    }
   ],
   "source": [
    "plt.hist([training_set_features['sex']])"
   ]
  },
  {
   "cell_type": "code",
   "execution_count": 105,
   "metadata": {},
   "outputs": [
    {
     "data": {
      "text/plain": [
       "health_insurance\n",
       "True     24971\n",
       "False     1736\n",
       "Name: count, dtype: int64"
      ]
     },
     "execution_count": 105,
     "metadata": {},
     "output_type": "execute_result"
    }
   ],
   "source": [
    "training_set_features['health_insurance'].value_counts()"
   ]
  },
  {
   "cell_type": "code",
   "execution_count": 106,
   "metadata": {},
   "outputs": [
    {
     "data": {
      "text/plain": [
       "education\n",
       "College Graduate    10097\n",
       "Some College         7043\n",
       "12 Years             5797\n",
       "< 12 Years           2363\n",
       "Name: count, dtype: int64"
      ]
     },
     "execution_count": 106,
     "metadata": {},
     "output_type": "execute_result"
    }
   ],
   "source": [
    "training_set_features['education'].value_counts()"
   ]
  },
  {
   "cell_type": "code",
   "execution_count": 107,
   "metadata": {},
   "outputs": [
    {
     "data": {
      "text/plain": [
       "income_poverty\n",
       "<= $75,000, Above Poverty    12777\n",
       "> $75,000                     6810\n",
       "Below Poverty                 2697\n",
       "Name: count, dtype: int64"
      ]
     },
     "execution_count": 107,
     "metadata": {},
     "output_type": "execute_result"
    }
   ],
   "source": [
    "training_set_features['income_poverty'].value_counts()"
   ]
  },
  {
   "cell_type": "code",
   "execution_count": 108,
   "metadata": {},
   "outputs": [
    {
     "data": {
      "text/plain": [
       "rent_or_own\n",
       "Own     18736\n",
       "Rent     5929\n",
       "Name: count, dtype: int64"
      ]
     },
     "execution_count": 108,
     "metadata": {},
     "output_type": "execute_result"
    }
   ],
   "source": [
    "training_set_features['rent_or_own'].value_counts()"
   ]
  },
  {
   "cell_type": "code",
   "execution_count": 109,
   "metadata": {},
   "outputs": [
    {
     "data": {
      "text/plain": [
       "employment_status\n",
       "Employed              13560\n",
       "Not in Labor Force    10231\n",
       "Unemployed             1453\n",
       "Name: count, dtype: int64"
      ]
     },
     "execution_count": 109,
     "metadata": {},
     "output_type": "execute_result"
    }
   ],
   "source": [
    "training_set_features['employment_status'].value_counts()"
   ]
  },
  {
   "cell_type": "code",
   "execution_count": 110,
   "metadata": {},
   "outputs": [
    {
     "data": {
      "text/plain": [
       "employment_occupation\n",
       "xtkaffoo    1778\n",
       "mxkfnird    1509\n",
       "emcorrxb    1270\n",
       "cmhcxjea    1247\n",
       "xgwztkwe    1082\n",
       "hfxkjkmi     766\n",
       "qxajmpny     548\n",
       "xqwwgdyp     485\n",
       "kldqjyjy     469\n",
       "uqqtjvyb     452\n",
       "tfqavkke     388\n",
       "ukymxvdu     372\n",
       "vlluhbov     354\n",
       "oijqvulv     344\n",
       "ccgxvspp     341\n",
       "bxpfxfdn     331\n",
       "haliazsg     296\n",
       "rcertsgn     276\n",
       "xzmlyyjv     248\n",
       "dlvbwzss     227\n",
       "hodpvpew     208\n",
       "dcjcmpih     148\n",
       "pvmttkik      98\n",
       "Name: count, dtype: int64"
      ]
     },
     "execution_count": 110,
     "metadata": {},
     "output_type": "execute_result"
    }
   ],
   "source": [
    "training_set_features['employment_occupation'].value_counts()"
   ]
  },
  {
   "cell_type": "code",
   "execution_count": 111,
   "metadata": {},
   "outputs": [
    {
     "data": {
      "text/plain": [
       "employment_industry\n",
       "fcxhlnwr    2468\n",
       "wxleyezf    1804\n",
       "ldnlellj    1231\n",
       "pxcmvdjn    1037\n",
       "atmlpfrs     926\n",
       "arjwrbjb     871\n",
       "xicduogh     851\n",
       "mfikgejo     614\n",
       "vjjrobsf     527\n",
       "rucpziij     523\n",
       "xqicxuve     511\n",
       "saaquncn     338\n",
       "cfqqtusy     325\n",
       "nduyfdeo     286\n",
       "mcubkhph     275\n",
       "wlfvacwt     215\n",
       "dotnnunm     201\n",
       "haxffmxo     148\n",
       "msuufmds     124\n",
       "phxvnwax      89\n",
       "qnlwzans      13\n",
       "Name: count, dtype: int64"
      ]
     },
     "execution_count": 111,
     "metadata": {},
     "output_type": "execute_result"
    }
   ],
   "source": [
    "training_set_features['employment_industry'].value_counts()"
   ]
  },
  {
   "cell_type": "code",
   "execution_count": 112,
   "metadata": {},
   "outputs": [
    {
     "data": {
      "text/plain": [
       "health_worker\n",
       "False    23004\n",
       "True      3703\n",
       "Name: count, dtype: int64"
      ]
     },
     "execution_count": 112,
     "metadata": {},
     "output_type": "execute_result"
    }
   ],
   "source": [
    "training_set_features['health_worker'].value_counts()"
   ]
  },
  {
   "cell_type": "code",
   "execution_count": 113,
   "metadata": {},
   "outputs": [
    {
     "data": {
      "text/plain": [
       "0        False\n",
       "1        False\n",
       "2        False\n",
       "3        False\n",
       "4        False\n",
       "         ...  \n",
       "26702    False\n",
       "26703     True\n",
       "26704    False\n",
       "26705    False\n",
       "26706    False\n",
       "Name: health_worker, Length: 26707, dtype: bool"
      ]
     },
     "execution_count": 113,
     "metadata": {},
     "output_type": "execute_result"
    }
   ],
   "source": [
    "training_set_features['health_worker'].astype(bool)"
   ]
  },
  {
   "cell_type": "code",
   "execution_count": 114,
   "metadata": {},
   "outputs": [
    {
     "data": {
      "text/plain": [
       "health_insurance\n",
       "True     24971\n",
       "False     1736\n",
       "Name: count, dtype: int64"
      ]
     },
     "execution_count": 114,
     "metadata": {},
     "output_type": "execute_result"
    }
   ],
   "source": [
    "training_set_features['health_insurance'].value_counts()"
   ]
  },
  {
   "cell_type": "markdown",
   "metadata": {},
   "source": [
    "# Save Transformed Datasets"
   ]
  },
  {
   "cell_type": "code",
   "execution_count": 115,
   "metadata": {},
   "outputs": [],
   "source": [
    "training_set_features.to_csv('../data/clean/training_set_features.csv')\n",
    "training_set_labels.to_csv('../data/clean/training_set_labels.csv')\n",
    "test_set_features.to_csv('../data/clean/test_set_features.csv')"
   ]
  },
  {
   "cell_type": "markdown",
   "metadata": {},
   "source": [
    "# Target Variables\n",
    "\n",
    "targets:\n",
    "\n",
    "- `h1n1_vaccine` (yes/no)\n",
    "- `seasonal_flu` vaccine (yes/no)\n",
    "\n",
    "others:\n",
    "\n",
    "- behavioral\n",
    "- opinion\n",
    "\n",
    "## Notes\n",
    "\n",
    "- There are no NA (Not Available) values in the target variables\n",
    "- Around 50% of participants had a seasonal flu vaccine\n",
    "- Around 20% of participants had a H1N1 vaccine\n",
    "\n",
    "So, the classes are imbalanced!\n",
    "\n",
    "We need to take this into account when splitting our train set into train/validation\n",
    "\n",
    "We might need to over and/or under sample from the H1N1 target class"
   ]
  }
 ],
 "metadata": {
  "kernelspec": {
   "display_name": "flu-shot-learning",
   "language": "python",
   "name": "python3"
  },
  "language_info": {
   "codemirror_mode": {
    "name": "ipython",
    "version": 3
   },
   "file_extension": ".py",
   "mimetype": "text/x-python",
   "name": "python",
   "nbconvert_exporter": "python",
   "pygments_lexer": "ipython3",
   "version": "3.10.13"
  }
 },
 "nbformat": 4,
 "nbformat_minor": 2
}
