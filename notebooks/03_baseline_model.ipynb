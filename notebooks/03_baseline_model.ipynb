{
 "cells": [
  {
   "cell_type": "markdown",
   "metadata": {},
   "source": [
    "# Model "
   ]
  },
  {
   "cell_type": "code",
   "execution_count": 8,
   "metadata": {},
   "outputs": [],
   "source": [
    "import sys\n",
    "import numpy as np\n",
    "import pandas as pd\n",
    "from sklearn.model_selection import train_test_split\n",
    "from sklearn.linear_model import LogisticRegression\n",
    "from sklearn.pipeline import Pipeline\n",
    "from sklearn.preprocessing import StandardScaler\n",
    "from sklearn.metrics import roc_auc_score\n",
    "from imblearn.over_sampling import SMOTE\n",
    "from imblearn.pipeline import Pipeline as ImbPipeline  # To use with SMOTE"
   ]
  },
  {
   "cell_type": "markdown",
   "metadata": {},
   "source": [
    "# Load Clean Data"
   ]
  },
  {
   "cell_type": "code",
   "execution_count": 9,
   "metadata": {},
   "outputs": [],
   "source": [
    "training_set_features = pd.read_csv('../data/clean/training_set_features.csv', index_col=\"respondent_id\")\n",
    "training_set_labels = pd.read_csv('../data/clean/training_set_labels.csv', index_col=\"respondent_id\")\n",
    "test_set_features = pd.read_csv('../data/clean/test_set_features.csv', index_col=\"respondent_id\")"
   ]
  },
  {
   "cell_type": "markdown",
   "metadata": {},
   "source": [
    "# Model Data"
   ]
  },
  {
   "cell_type": "code",
   "execution_count": 10,
   "metadata": {},
   "outputs": [
    {
     "name": "stdout",
     "output_type": "stream",
     "text": [
      "ROC-AUC for H1N1 Vaccine Prediction: 0.8206701880005715\n",
      "ROC-AUC for Seasonal Vaccine Prediction: 0.8556704842798477\n"
     ]
    }
   ],
   "source": [
    "# Separate features and targets\n",
    "features = training_set_features\n",
    "h1n1_target = training_set_labels['h1n1_vaccine']\n",
    "seasonal_target = training_set_labels['seasonal_vaccine']\n",
    "\n",
    "# Identifying all features as categorical (including binary)\n",
    "categorical_features = features.columns\n",
    "\n",
    "# Preprocessing for categorical data including binary\n",
    "categorical_transformer = Pipeline(steps=[\n",
    "    ('onehot', OneHotEncoder(handle_unknown='ignore'))  # One-hot encoding for all features\n",
    "])\n",
    "\n",
    "# Preprocessor for all features\n",
    "preprocessor = ColumnTransformer(\n",
    "    transformers=[\n",
    "        ('cat', categorical_transformer, categorical_features)\n",
    "    ])\n",
    "\n",
    "# Building the pipeline for h1n1 vaccine prediction with preprocessing and class imbalance handling\n",
    "pipeline_h1n1 = ImbPipeline(steps=[\n",
    "    ('preprocessor', preprocessor),\n",
    "    ('oversample', SMOTE(sampling_strategy='auto', random_state=42)),  # Handle class imbalance\n",
    "    ('classifier', LogisticRegression(random_state=42, max_iter=1000))  # Logistic regression classifier\n",
    "])\n",
    "\n",
    "# Building the pipeline for seasonal vaccine prediction with preprocessing\n",
    "pipeline_seasonal = Pipeline(steps=[\n",
    "    ('preprocessor', preprocessor),\n",
    "    ('classifier', LogisticRegression(random_state=42, max_iter=1000))  # Logistic regression classifier\n",
    "])\n",
    "\n",
    "# Splitting the dataset into training and validation sets\n",
    "X_train, X_val, y_train_h1n1, y_val_h1n1, y_train_seasonal, y_val_seasonal = train_test_split(\n",
    "    features, h1n1_target, seasonal_target, test_size=0.2, random_state=42)\n",
    "\n",
    "# Fitting the models\n",
    "pipeline_h1n1.fit(X_train, y_train_h1n1)\n",
    "pipeline_seasonal.fit(X_train, y_train_seasonal)\n",
    "\n",
    "# Making predictions (probabilities) on the validation set\n",
    "probabilities_h1n1 = pipeline_h1n1.predict_proba(X_val)[:, 1]  # Probabilities for the positive class\n",
    "probabilities_seasonal = pipeline_seasonal.predict_proba(X_val)[:, 1]  # Probabilities for the positive class\n",
    "\n",
    "# Evaluating the models using ROC-AUC\n",
    "roc_auc_h1n1 = roc_auc_score(y_val_h1n1, probabilities_h1n1)\n",
    "roc_auc_seasonal = roc_auc_score(y_val_seasonal, probabilities_seasonal)\n",
    "\n",
    "print(f\"ROC-AUC for H1N1 Vaccine Prediction: {roc_auc_h1n1}\")\n",
    "print(f\"ROC-AUC for Seasonal Vaccine Prediction: {roc_auc_seasonal}\")\n",
    "\n"
   ]
  },
  {
   "cell_type": "markdown",
   "metadata": {},
   "source": [
    "# Save Model"
   ]
  },
  {
   "cell_type": "code",
   "execution_count": 11,
   "metadata": {},
   "outputs": [
    {
     "name": "stdout",
     "output_type": "stream",
     "text": [
      "Model saved to ../models/pipeline_h1n1.joblib\n",
      "Model saved to ../models/pipeline_seasonal.joblib\n"
     ]
    }
   ],
   "source": [
    "import joblib\n",
    "\n",
    "# Specify the path to save the model\n",
    "model_path_h1n1 = \"../models/pipeline_h1n1.joblib\"\n",
    "model_path_seasonal = \"../models/pipeline_seasonal.joblib\"\n",
    "\n",
    "# Save the models\n",
    "joblib.dump(pipeline_h1n1, model_path_h1n1)\n",
    "joblib.dump(pipeline_seasonal, model_path_seasonal)\n",
    "\n",
    "print(f\"Model saved to {model_path_h1n1}\")\n",
    "print(f\"Model saved to {model_path_seasonal}\")\n"
   ]
  },
  {
   "cell_type": "markdown",
   "metadata": {},
   "source": [
    "# Submission with Probabilities"
   ]
  },
  {
   "cell_type": "code",
   "execution_count": 12,
   "metadata": {},
   "outputs": [
    {
     "name": "stdout",
     "output_type": "stream",
     "text": [
      "Submission file with 26708 rows saved to ../submissions/submission.csv\n"
     ]
    }
   ],
   "source": [
    "# Assuming your models are already trained on the training set\n",
    "\n",
    "# Making predictions on the test set\n",
    "probabilities_h1n1 = pipeline_h1n1.predict_proba(test_set_features)[:, 1]  # Probabilities for h1n1_vaccine\n",
    "probabilities_seasonal = pipeline_seasonal.predict_proba(test_set_features)[:, 1]  # Probabilities for seasonal_vaccine\n",
    "\n",
    "# Creating a DataFrame with the probabilities\n",
    "submission_df = pd.DataFrame({\n",
    "    \"respondent_id\": test_set_features.index,  # Using the index from the test set\n",
    "    \"h1n1_vaccine\": probabilities_h1n1,\n",
    "    \"seasonal_vaccine\": probabilities_seasonal\n",
    "})\n",
    "\n",
    "# Saving the DataFrame to a CSV file\n",
    "submission_file_path = \"../submissions/submission.csv\"\n",
    "submission_df.to_csv(submission_file_path, index=False)\n",
    "\n",
    "print(f\"Submission file with {submission_df.shape[0]} rows saved to {submission_file_path}\")\n",
    "\n"
   ]
  },
  {
   "cell_type": "markdown",
   "metadata": {},
   "source": [
    "# Submission\n",
    "\n",
    "Submitted with score:  0.8229 with rank #1359\n",
    "\n",
    "Top ranked #1 score: 0.8658 AUROC"
   ]
  }
 ],
 "metadata": {
  "kernelspec": {
   "display_name": "flu-shot-learning",
   "language": "python",
   "name": "python3"
  },
  "language_info": {
   "codemirror_mode": {
    "name": "ipython",
    "version": 3
   },
   "file_extension": ".py",
   "mimetype": "text/x-python",
   "name": "python",
   "nbconvert_exporter": "python",
   "pygments_lexer": "ipython3",
   "version": "3.10.13"
  }
 },
 "nbformat": 4,
 "nbformat_minor": 2
}
